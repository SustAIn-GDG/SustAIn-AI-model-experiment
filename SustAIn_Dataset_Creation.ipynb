{
  "nbformat": 4,
  "nbformat_minor": 0,
  "metadata": {
    "colab": {
      "provenance": []
    },
    "kernelspec": {
      "name": "python3",
      "display_name": "Python 3"
    },
    "language_info": {
      "name": "python"
    }
  },
  "cells": [
    {
      "cell_type": "code",
      "execution_count": 16,
      "metadata": {
        "id": "X-eH7KvIk1Ma"
      },
      "outputs": [],
      "source": [
        "import pandas as pd\n",
        "\n",
        "df1 = pd.read_csv(\"/content/sample_data/AI Query Classification Dataset Collection - Research Project  (Responses) - Form responses 1.csv\")\n",
        "\n",
        "# Remove the 'timestamp' column\n",
        "df1 = df1.drop(columns=['Timestamp'])\n",
        "\n",
        "# Display the modified dataframe\n",
        "df1 = df1.rename(columns={\"Enter prompt / query\": \"Query\", \"Most suitable label\": \"Label\"})"
      ]
    },
    {
      "cell_type": "code",
      "source": [
        "import random\n",
        "\n",
        "# Define query categories with varying lengths\n",
        "categories = {\n",
        "    \"text classification\": [\n",
        "        \"Does this comment contain offensive language?\",\n",
        "        \"Categorize this news article: Politics, Sports, or Entertainment.\",\n",
        "        \"Identify whether this review is positive or negative.\",\n",
        "        \"Classify the sentiment of this social media post: Happy, Angry, or Neutral.\",\n",
        "        \"Analyze this tweet and determine if it's promoting misinformation about COVID-19.\",\n",
        "        \"Is this customer email a complaint or a general inquiry?\",\n",
        "        \"Based on text content, determine if this email is spam or not.\"\n",
        "    ],\n",
        "    \"text generation\": [\n",
        "        \"Generate a short email apologizing for a delayed response.\",\n",
        "        \"Write a two-paragraph explanation of how machine learning works.\",\n",
        "        \"Create a bedtime story about a little robot who learns to dream.\",\n",
        "        \"Generate a formal job acceptance letter with gratitude.\",\n",
        "        \"Write a blog introduction for an article on the impact of AI on education.\",\n",
        "        \"Compose a promotional email for a new fitness app.\",\n",
        "        \"Generate a LinkedIn post about the future of remote work.\"\n",
        "    ],\n",
        "    \"code generation\": [\n",
        "        \"Write a Python function to check if a number is prime.\",\n",
        "        \"Generate a JavaScript function to validate an email address.\",\n",
        "        \"Create a basic HTML + CSS template for a personal portfolio website.\",\n",
        "        \"Write a SQL query to find duplicate entries in a database table.\",\n",
        "        \"Implement a recursive Fibonacci function in C++.\",\n",
        "        \"Generate a Flask API endpoint that returns user data in JSON format.\",\n",
        "        \"Write a Python script that scrapes trending GitHub repositories.\"\n",
        "    ],\n",
        "    \"summarization\": [\n",
        "        \"Summarize the impact of climate change in one sentence.\",\n",
        "        \"Provide a brief summary of the latest iPhone release and its key features.\",\n",
        "        \"Summarize this news article into 3 bullet points.\",\n",
        "        \"Condense this 10-page report on cybersecurity threats into key takeaways.\",\n",
        "        \"Explain the main ideas of the book '1984' in 50 words.\",\n",
        "        \"Summarize a recent scientific study about artificial intelligence applications.\",\n",
        "        \"Write a concise summary of a movie review about 'Inception'.\"\n",
        "    ],\n",
        "    \"question answering\": [\n",
        "        \"Who discovered penicillin and how?\",\n",
        "        \"What are the main causes of inflation in modern economies?\",\n",
        "        \"How do black holes form and why are they important in astrophysics?\",\n",
        "        \"Explain how deep learning differs from traditional machine learning.\",\n",
        "        \"What are the key benefits of learning a second language?\",\n",
        "        \"Describe the process of DNA replication in simple terms.\",\n",
        "        \"Why do some people experience jet lag while traveling?\"\n",
        "    ],\n",
        "    \"image generation\": [\n",
        "        \"Create a photorealistic image of a futuristic city skyline at night.\",\n",
        "        \"Generate a fantasy-themed artwork of a warrior standing on a battlefield.\",\n",
        "        \"Design an abstract digital painting inspired by ocean waves.\",\n",
        "        \"Create a 3D-rendered model of a cyberpunk-style sports car.\",\n",
        "        \"Generate an artistic portrait of an astronaut in a neon-lit space station.\",\n",
        "        \"Create a landscape painting of a waterfall in a dense rainforest.\",\n",
        "        \"Design a surreal digital image where the sky is filled with floating islands.\"\n",
        "    ],\n",
        "    \"image classification\": [\n",
        "        \"Is this image a cat or a dog?\",\n",
        "        \"Detect if this photo is of a healthy or diseased plant leaf.\",\n",
        "        \"Classify these satellite images into Urban, Forest, or Desert categories.\",\n",
        "        \"Determine if this security camera footage contains human movement.\",\n",
        "        \"Identify the breed of this dog based on the given image.\",\n",
        "        \"Is this an X-ray scan of a broken bone or a normal one?\",\n",
        "        \"Classify this set of images into 'Daytime' or 'Nighttime' scenes.\"\n",
        "    ]\n",
        "}\n",
        "\n",
        "# Expanding dataset by adding variations in length and structure\n",
        "dataset = []\n",
        "for category, queries in categories.items():\n",
        "    for query in queries:\n",
        "        dataset.append((query, category))\n",
        "\n",
        "# Adding more variations with different query lengths\n",
        "for _ in range(300):  # Adding 300 extra queries\n",
        "    cat = random.choice(list(categories.keys()))\n",
        "    base_query = random.choice(categories[cat])\n",
        "\n",
        "    # Introduce variations in length\n",
        "    length_variations = [\n",
        "        base_query,  # Original\n",
        "        f\"{base_query} Can you help with this?\",  # Slightly longer\n",
        "        f\"Please provide an answer to this: {base_query}\",  # Medium\n",
        "        f\"I need detailed information regarding the following topic: {base_query}. Please explain thoroughly with supporting examples if possible.\",  # Long\n",
        "        f\"{base_query}. Keep the response short and precise.\",  # Shortened\n",
        "    ]\n",
        "\n",
        "    dataset.append((random.choice(length_variations), cat))\n",
        "\n",
        "# Creating DataFrame\n",
        "df2 = pd.DataFrame(dataset, columns=[\"Query\", \"Label\"])"
      ],
      "metadata": {
        "id": "TCTRWogqmGTG"
      },
      "execution_count": 17,
      "outputs": []
    },
    {
      "cell_type": "code",
      "source": [
        "# Merging both the dataframes together before exporting\n",
        "result = pd.concat([df1, df2])\n",
        "\n",
        "\n",
        "# Saving to CSV\n",
        "result.to_csv(\"query_classification_dataset.csv\", index=False)\n",
        "\n",
        "print(\"Dataset saved as query_classification_dataset.csv\")"
      ],
      "metadata": {
        "colab": {
          "base_uri": "https://localhost:8080/"
        },
        "id": "MMGE7uvbnA8_",
        "outputId": "bed9e091-734f-4ad6-a44b-cc56bbcbb800"
      },
      "execution_count": 19,
      "outputs": [
        {
          "output_type": "stream",
          "name": "stdout",
          "text": [
            "Dataset saved as query_classification_dataset.csv\n"
          ]
        }
      ]
    }
  ]
}